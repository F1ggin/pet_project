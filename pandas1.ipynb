{
  "metadata": {
    "kernelspec": {
      "name": "python",
      "display_name": "Python (Pyodide)",
      "language": "python"
    },
    "language_info": {
      "codemirror_mode": {
        "name": "python",
        "version": 3
      },
      "file_extension": ".py",
      "mimetype": "text/x-python",
      "name": "python",
      "nbconvert_exporter": "python",
      "pygments_lexer": "ipython3",
      "version": "3.8"
    }
  },
  "nbformat_minor": 5,
  "nbformat": 4,
  "cells": [
    {
      "id": "c545174d-c3fa-493e-935d-ce226b28893c",
      "cell_type": "code",
      "source": "Для выполнения задания используются датасеты биржевой информации, расположенные по ссылке\n\nsp_data2.csv\nsp500hst.csv\nДля того, чтобы считать данные файлы в системе Я.Контест, вам нужно использовать относительный путь, как-будто этот файл находится в той же директории, что и исполняемый .py файл, например: pd.read_csv('./sp_data2.csv')\n\nОписание формата данных: Для изучения формата данных, используемых в задании, обратитесь к следующим источникам:\n\nСоздание графиков объема и свечных диаграмм\nОписание биржевых данных (OHLC)\nWikipedia: Графики OHLC\nПеред началом выполнения задания ознакомьтесь с файлами и их структурой.\n\nЗадание 1 (базовое):\nЗагрузка данных\nЗагрузите данные из файлов в таблицы Pandas с именами:\nticker_data (для файла sp_data2.csv)\nohlc_data (для файла sp500hst.csv)\nОбозначьте столбцы для таблицы ticker_data как:\n\n\"ticker\" (тикер),\n\"company\" (название компании),\n\"percent\" (процентное изменение).\nДля таблицы ohlc_data используйте следующие наименования столбцов:\n\n\"date\" (дата),\n\"ticker\" (тикер),\n\"volume\" (объем),\n\"open\" (цена открытия),\n\"high\" (максимальная цена),\n\"low\" (минимальная цена),\n\"close\" (цена закрытия).\nПорядок столбцов должен соответствовать вышеуказанному. Дата в столбце \"date\" должна быть преобразована в формат datetime.\n\nСоздание нового столбца\nДобавьте в таблицу ohlc_data новый столбец \"mid\", который содержит средние значения между дневным минимумом и максимумом. Столбец должен находиться в конце таблицы.\nФункция ohlc_agg_data(tickers)\nРеализуйте функцию, которая создает DataFrame, индексом которого должны быть тикеры из tickers. В этом DataFrame для каждого тикера необходимо оставить только одну строку, содержащую средние значения по столбцам \"volume\", \"open\", \"high\", \"low\", \"close\", \"mid\" за все даты. В столбце \"date\" должен храниться первый день, для которого есть данные по каждому тикеру в исходной таблице. Порядок вывода строк тикеров должен быть такой же, как в переданном списке tickers.\nФункция vol_diff(ticker1, ticker2, k)\nРеализуйте функцию, которая создает DataFrame, содержащий разницу в объемах торгов акциями с тикерами ticker1 и ticker2 в одинаковые даты. Если объем торгов известен только для одного из тикеров, соответствующая строка в результирующую таблицу не добавляется. Параметр k задает количество строк, которые будут выведены из результирующей таблицы, начиная с первой строки. Если k=4, функция должна вернуть строки с индексами от 0 до 4 включительно. Столбцы новой таблицы:\n\"date\" (дата),\n\"ticker1\" (первый тикер),\n\"ticker2\" (второй тикер),\n\"volume1\" (объем торгов для первого тикера),\n\"volume2\" (объем торгов для второго тикера),\n\"diff\" (разница объемов).\nФункция max_after_date(date_str)\nРеализуйте функцию, которая по данным из sp500hst.csv с помощью Pandas рассчитывает максимальные значения для столбцов 3–6 включительно для дат после 2010-08-01 (дата задается как параметр).\nФункция mid_vol_open_gt(open_value)\nРеализуйте функцию, которая рассчитывает средний объем торгов для значений \"open\" больше 50 (значение 50 передается как параметр).\nКонсоль пользователя\nТут представлена реализация консоли, позволяющую пользователю вводить выражения с использованием Pandas, а результат выполнения выводить в виде CSV-файла. Для этого используется функция eval (подробнее о функции см. здесь). Эту функцию необходимо использовать для ввода команд.",
      "metadata": {
        "trusted": true
      },
      "outputs": [],
      "execution_count": null
    },
    {
      "id": "d1bfa5a9-c705-4d9b-9687-0266a5be3f05",
      "cell_type": "code",
      "source": "import pandas as pd\n\n# Загрузка данных\nticker_data = pd.read_csv('./sp_data2.csv', sep=';', names=[\"ticker\", \"company\", \"percent\"])\n\n# Округляем столбец percent сразу после преобразования его в float\nticker_data['percent'] = ticker_data['percent'].str.rstrip('%').astype(float).round(2)  # Убираем символ процента и округляем\n\nohlc_data = pd.read_csv('./sp500hst.csv', names=[\"date\", \"ticker\", \"volume\", \"open\", \"high\", \"low\", \"close\"])\n\n# Преобразуем дату в формат datetime\nohlc_data['date'] = pd.to_datetime(ohlc_data['date'], format='%Y%m%d')\n\n# Округляем числовые столбцы сразу после загрузки\nohlc_data[['volume', 'open', 'high', 'low', 'close']] = ohlc_data[['volume', 'open', 'high', 'low', 'close']].round(2)\n\n# Добавляем новый столбец \"mid\" - среднее значение между low и high\nohlc_data['mid'] = ((ohlc_data['low'] + ohlc_data['high']) / 2).round(2)\n\n\n# Функция агрегирования данных по тикерам\ndef ohlc_agg_data(tickers):\n    # Фильтруем данные по тикерам и группируем\n    agg_data = ohlc_data[ohlc_data['ticker'].isin(tickers)].groupby('ticker').agg({\n        'volume': 'mean',\n        'open': 'mean',\n        'high': 'mean',\n        'low': 'mean',\n        'close': 'mean',\n        'mid': 'mean',\n        'date': 'min'  # минимальная дата для каждого тикера\n    })\n\n    # Округляем до двух знаков и возвращаем результат\n    return agg_data.round(2).reset_index()\n\n\n# Функция для расчета разницы в объеме торгов между двумя тикерами\ndef vol_diff(ticker1, ticker2, k):\n    # Фильтруем данные по тикерам\n    filtered = ohlc_data[ohlc_data['ticker'].isin([ticker1, ticker2])]\n\n    # Поворотная таблица по объему торгов с тикерами как столбцами\n    pivot_table = filtered.pivot_table(index='date', columns='ticker', values='volume', aggfunc='first')\n\n    # Убираем строки, где отсутствуют данные по одному из тикеров\n    pivot_table = pivot_table.dropna(subset=[ticker1, ticker2])\n\n    # Вычисляем разницу объемов торгов\n    pivot_table['diff'] = (pivot_table[ticker1] - pivot_table[ticker2]).round(2)\n\n    # Переименовываем столбцы для удобства\n    pivot_table = pivot_table.rename(columns={ticker1: 'volume1', ticker2: 'volume2'})\n\n    # Формируем результат в виде DataFrame с индексом для вывода\n    result = pivot_table.reset_index()[['date', 'volume1', 'volume2', 'diff']].head(k + 1)\n    result['ticker1'] = ticker1\n    result['ticker2'] = ticker2\n\n    # Добавляем пустой индекс для формата\n    result.insert(0, '', range(len(result)))\n\n    return result[['', 'date', 'ticker1', 'ticker2', 'volume1', 'volume2', 'diff']]\n\n\n# Функция для нахождения максимальных значений после заданной даты\ndef max_after_date(date_str):\n    # Преобразование строки в дату\n    date = pd.to_datetime(date_str)\n\n    # Фильтруем данные по дате\n    filtered_data = ohlc_data[ohlc_data['date'] > date]\n\n    # Находим максимальные значения по столбцам open, high, low, close\n    max_values = (filtered_data[['open', 'high', 'low', 'close']].max()).round(2)\n\n    # Преобразуем данные в DataFrame с нужной структурой\n    result = max_values.reset_index().rename(columns={'index': '', 0: 'max_value'}).round(2)\n    result.columns = ['', '0']\n\n    return result\n\n\n# Функция для расчета среднего объема торгов, где open больше указанного значения\ndef mid_vol_open_gt(open_value):\n    # Фильтруем данные по условию\n    filtered = ohlc_data[ohlc_data['open'] > open_value]\n\n    # Рассчитываем средний объем торгов\n    return filtered['volume'].mean().round(2)\n\n\n# Основная функция для взаимодействия с пользователем через консоль\ndef main():\n    input_string = eval(input())  # Выполняем ввод пользователя\n    if isinstance(input_string, pd.DataFrame) or isinstance(input_string, pd.Series):\n        print(input_string.to_csv(index=False))\n    else:\n        print(input_string)\n\n\nif __name__ == \"__main__\":\n    main()\n",
      "metadata": {
        "trusted": true
      },
      "outputs": [],
      "execution_count": null
    }
  ]
}
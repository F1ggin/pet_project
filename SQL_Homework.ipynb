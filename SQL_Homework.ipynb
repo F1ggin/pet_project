{
  "metadata": {
    "kernelspec": {
      "name": "SQLite",
      "display_name": "SQLite",
      "language": "sql"
    },
    "language_info": {
      "codemirror_mode": "sql",
      "file_extension": "",
      "mimetype": "",
      "name": "sql",
      "version": "3.32.3"
    }
  },
  "nbformat_minor": 5,
  "nbformat": 4,
  "cells": [
    {
      "id": "065257f3-9c08-4b32-9efd-f5a0d262f63e",
      "cell_type": "code",
      "source": "Вспомним схему БД для библиотеки:\nReader( ID, LastName, FirstName, Address, BirthDate)\nBook ( ISBN, Title, Author, PagesNum, PubYear, PubName)\nPublisher ( PubName, PubKind)\nCategory ( CategoryName, ParentCat)\nCopy ( ISBN, CopyNumber, Shelf, Position)\nBorrowing ( ReaderNr, ISBN, CopyNumber, ReturnDate)\nBookCat ( ISBN, CategoryName )  \n\n\nНапишите SQL-запросы, возвращающие следующие данные:\n\nВсе фамилии (LastName) читателей (Reader) из Москвы\nВсе названия (Title) и авторов (Author) книг (Books), опубликованных издателями (Publisher) научной или справочной литературы (pubKind либо 'Science', либо 'Reference')\nВсе названия (Title) и авторов (Author) книг (Books), которые брал Иван Иванов.\nВсе идентификаторы (ISBN) книг (Book), относящихся к категории \"Mountains\", но не относящихся к категории \"Travel\". Подкатегории не учитывать.\nВсе фамилии и имена читателей, которые вернули хотя бы одну книгу (Borrowing.ReturnDate is not null)\nВсе фамилии и имена читателей, которые брали (Borrowing)  хотя бы одну книгу (Book), которую брал Иван Иванов. Ответ не должен содержать самого Ивана Иванова.",
      "metadata": {
        "trusted": true
      },
      "outputs": [],
      "execution_count": null
    },
    {
      "id": "f1c17b3b-3850-48e9-adcb-8c2c9a50c3c4",
      "cell_type": "code",
      "source": "select lastname from reader r where address like '%Москва%'\n\nselect title, author, ubname\nfrom book b \njoin publisher p on b.PubName=p.PubName \nwhere pubKind in ('Science', 'Reference')\n\nselect title, author\nfrom book b\njoin borrowing br on b.isbn=br.isbn\njoin reader r on br.readernr=r.id\nwhere r.firstname = 'Иван' and r.lastname = 'Иванов'\n\nselect b.isbn\nfrom book b\njoin bookcat bc on b.isbn=bc.isbn\nwhere bc.categoryname = 'Mountains' \nexcept \nselect b.isbn \nfrom book b\njoin bookcat bc on b.isbn=bc.isbn \nwhere bc.categoryname = 'Travel'\n\n\n\nselect distinct r.lastname, r.firstname\nfrom book b\njoin borrowing br on b.isbn=br.isbn\njoin reader r on br.readernr=r.id\nwhere br.returndate is not null\n\n\nselect r.lastname, r.firstname\nfrom book b\njoin borrowing br on b.isbn=br.isbn\njoin reader r on br.readernr=r.id\nwhere br.isbn in (\n\tselect (br.isbn)\n\tfrom book b\n\tjoin borrowing br on b.isbn=br.isbn\n\tjoin reader r on br.readernr=r.id\n\twhere r.lastname='Иванов' and r.firstname='Иван'\n\t)\nexcept \nselect (r.lastname, r.firstname)\nfrom book b\njoin borrowing br on b.isbn=br.isbn\njoin reader r on br.readernr=r.id\nwhere r.lastname='Иванов' and r.firstname='Иван'\n\n\nselect * from borrowing b \n\nselect * from book\n\nselect * from reader r \n\n\n",
      "metadata": {
        "trusted": true
      },
      "outputs": [],
      "execution_count": null
    },
    {
      "id": "84edfbd8-b3f5-43ec-96ad-235ea3eaa333",
      "cell_type": "code",
      "source": "Задание 1. \nВспомним схему для библиотеки\n\nReader( ID, LastName, FirstName, Address, BirthDate)\nBook ( ISBN, Title, Author, PagesNum, PubYear, PubName)\nPublisher ( PubName, PubKind)\nCategory ( CategoryName, ParentCat)\nCopy ( ISBN, CopyNumber, Shelf, Position)\nBorrowing ( ReaderNr, ISBN, CopyNumber, ReturnDate)\nBookCat ( ISBN, CategoryName )  \n\n\nНапишите запросы:\n\nНапишите SQL-запросы, возвращающие следующие данные:\n\nВывести все названия (Title) книг (Book) вместе с названиями (PubName) их издателей (Publisher)\nВывести ISBN книги/всех книг (Book) с максимальным количеством страниц (PagesNum)\nКакие авторы (Author) написали больше пяти книг (Book)?\nВывести ISBN всех книг (Book), количество страниц (PagesNum) больше, чем в два раза больше среднего количества страниц во всех книгах\nВывести категории, в которых есть подкатегории.\nВывести имена всех авторов (Author), написавших больше всех книг. Считать имена уникальными.\nВывести номера читателей (ReaderNr), которые брали (Borrwing) все книги (Book, не Copy) Марка Твена.\nУ каких (ISBN) книг (Book) больше, чем одна копия (Copy)?\nВывести 10 самых старых (по PubYear) книг. Если в самом древнем году 10 книг или больше, вывести их все. Если нет, вывести, сколько есть, и дальше выводить все книги из каждого предыдущего года, пока не наберется всего 10 или больше.\nВывести все поддерево подкатегорий категории “Sports”.\nЗадание 2.\nНапишите запросы для следующих действий:\n\nДобавить в таблицу Borrowing запись про то, что ‘John Johnson’ взял книгу c ISBN=123456 и CopyNumber=4.\nУдалить все книги с годом публикации больше, чем 2000.\nУвеличить дату возврата на 30 дней (просто +30) для всех книг в категории \"Databases\",  у которых эта дата > '01.01.2022'.",
      "metadata": {
        "trusted": true
      },
      "outputs": [],
      "execution_count": null
    },
    {
      "id": "a6ebcec3-4772-481d-a58e-a96093c67b6d",
      "cell_type": "code",
      "source": "select title, pubname\nfrom book \n\nselect b.isbn\nfrom book b\nwhere pagesnum = (select max(pagesnum) from book)\n\nselect author\nfrom book b \ngroup by author\nhaving count(b.isbn)>5\n\nselect isbn\nfrom book b\nwhere pagesnum > 2*(select avg(pagesnum) from book)\n\nselect distinct parentcat \nfrom category c \nwhere parentcat is not null \n\n\n\n\nselect author\nfrom book b \ngroup by author\nhaving count(isbn) = (\n\tselect max(col) from (\n\tselect count(isbn) as col \n\tfrom book \n\tgroup by author \n\t)\n\t)\n\t\n\t\nselect readernr\nfrom borrowing b\njoin book b2 on b2.isbn=b.isbn\nwhere author = 'Марк Твен'\ngroup by b.readernr\nhaving count(distinct b.isbn) = (\n\tselect count(isbn) \n\tfrom book \n\twhere author = 'Марк Твен'\n\t)\n\n\nselect b.isbn\nfrom book b\njoin copy c on c.isbn = b.isbn\ngroup by b.isbn \nhaving count(b.isbn)>1\n\n\nselect pubyear   999999\nfrom book b\ngroup by pubyear\norder by pubyear \nlimit 10\n\n\nwith recursive categotytree as(   10\n\tselect * from category c\n\twhere c.categoryname = 'Sports'\n\t\n\tunion all\n\t\n\tselect * \n\tfrom category c\n\tjoin categorytree ct on c.parentcat = ct.categoryname\n\t\n)\n\n\ninsert into borrowing (readernr,isbn,copynumber)\nvalues ((select id \n\tfrom reader r \n\twhere lastname = 'Johnson' and firstname = 'John'),\n\t123456,4\n\t)\n\n\t\nselect * from book b\n\ndelete from book b \nwhere pubyear > 2000\n\n\n\n\nupdate borrowing  set returndate = returndate + interval '30 day'\nwhere returndate > '01.01.2022'",
      "metadata": {
        "trusted": true
      },
      "outputs": [],
      "execution_count": null
    },
    {
      "id": "d6996db9-cf2a-46ad-9caa-59cd01e446f5",
      "cell_type": "code",
      "source": "Определить, во сколько раз зарплата каждого сотрудника меньше максимальной зарплаты по компании.\nОпределить, во сколько раз зарплата сотрудника отличается от средней зарплаты по департаменту.\nВывести список всех сотрудников. Для каждого сотрудника вывести среднюю зарплату по департаменту и среднюю зарплату по должности. Определить, во сколько раз средняя зарплата по департаменту отличается от средней зарплаты по должности.\nВывести список сотрудников, получающих минимальную зарплату по департаменту. Если в каком-либо департаменте несколько сотрудников получают минимальную зарплату, вывести того, чья фамилия идет раньше по алфавиту.\nНа основе таблицы employees создать таблицу scores c результатами соревнований со следующим маппингом: employee_id -> man_id, department_id -> division, salary -> score. Вывести список людей, занявших первые 3 места в каждом дивизионе (т.е. занявших три позиции с максимальным количеством очков).\n[+1 балл]\n\n6. Отсортировать список сотрудников по фамилиям и разбить на 5 по возможности равных групп. Для каждого сотрудника вывести разницу между его зарплатой и средней зарплатой по группе.\n\n[+1 балл]\n\n7. Для каждого сотрудника посчитать количество сотрудников, принятых на работу в период ± 1 год от даты его принятия на работу, а также количество сотрудников, принятых позже данного сотрудника, но в этом же году. Если два сотрудника приняты в один день, считать принятым позже сотрудника с большим employee_id.",
      "metadata": {
        "trusted": true
      },
      "outputs": [],
      "execution_count": null
    }
  ]
}